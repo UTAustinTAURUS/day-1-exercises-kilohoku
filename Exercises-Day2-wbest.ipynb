{
 "cells": [
  {
   "cell_type": "markdown",
   "metadata": {},
   "source": [
    "## Exercises\n",
    "\n",
    "This will be a notebook for you to work through the exercises during the workshop. Feel free to work on these at whatever pace you feel works for you, but I encourage you to work together! Edit the title of this notebook with your name because I will ask you to upload your final notebook to our shared github repository at the end of this workshop.\n",
    "\n",
    "Feel free to google the documentation for numpy, matplotlib, etc.\n",
    "\n",
    "Don't forget to start by importing any libraries you need."
   ]
  },
  {
   "cell_type": "code",
   "execution_count": 34,
   "metadata": {},
   "outputs": [],
   "source": [
    "# import your libraries here\n",
    "import numpy as np\n",
    "\n",
    "import astropy\n",
    "\n",
    "import matplotlib.pyplot as plt\n"
   ]
  },
  {
   "cell_type": "markdown",
   "metadata": {},
   "source": [
    "### Day 1\n",
    "\n",
    "#### Exercise 1\n",
    "\n",
    "   A. Create an array with 10 evenly spaced values in logspace ranging from 0.1 to 10,000.\n",
    "\n",
    "   B. Print the following values: The first value in the array, the final value in the array, and the range of 5th-8th values.\n",
    "\n",
    "   C. Append the numbers 10,001 and 10,002 (as floats) to the array. Make sure you define this!\n",
    "\n",
    "   D. Divide your new array by 2.\n",
    "\n",
    "   E. Reshape your array to be 3 x 4. \n",
    "\n",
    "   F. Multiply your array by itself.\n",
    "    \n",
    "   G.  Print out the number of dimensions and the maximum value."
   ]
  },
  {
   "cell_type": "code",
   "execution_count": 38,
   "metadata": {},
   "outputs": [
    {
     "name": "stdout",
     "output_type": "stream",
     "text": [
      "0.1\n",
      "10000.0\n",
      "[ 16.68100537  59.94842503 215.443469   774.26368268]\n",
      "\n",
      "2\n"
     ]
    },
    {
     "data": {
      "text/plain": [
       "25010001.0"
      ]
     },
     "execution_count": 38,
     "metadata": {},
     "output_type": "execute_result"
    }
   ],
   "source": [
    "# your solution here\n",
    "logarray = np.logspace(-1, 4, 10)\n",
    "print(logarray[0])\n",
    "print(logarray[-1])\n",
    "print(logarray[4:8])\n",
    "print()\n",
    "logarray = np.append(logarray, [10001.0, 10002.0])\n",
    "logarray /= 2\n",
    "logarray = logarray.reshape(3,4)\n",
    "logarray **= 2\n",
    "print(logarray.ndim)\n",
    "np.max(logarray)\n",
    "#print(logarray)"
   ]
  },
  {
   "cell_type": "markdown",
   "metadata": {},
   "source": [
    "### Day 2"
   ]
  },
  {
   "cell_type": "markdown",
   "metadata": {},
   "source": [
    "#### Exercise 1\n",
    "\n",
    "   A. Create an array containing the values 4, 0, 6, 5, 11, 14, 12, 14, 5, 16.\n",
    "   B. Create a 10x2 array of zeros.\n",
    "   C. Write a for loop that checks if each of the numbers in the first array squared is less than 100. If the statement is true, change that row of your zeros array to equal the number and its square. Hint: you can change the value of an array by stating \"zerosarray[i] = [a number, a number squared]\". \n",
    "   D. Print out the final version of your zeros array.\n",
    "    \n",
    "Hint: should you loop over the elements of the array or the indices of the array?"
   ]
  },
  {
   "cell_type": "code",
   "execution_count": 14,
   "metadata": {},
   "outputs": [
    {
     "name": "stdout",
     "output_type": "stream",
     "text": [
      "[[ 4. 16.]\n",
      " [ 0.  0.]\n",
      " [ 6. 36.]\n",
      " [ 5. 25.]\n",
      " [ 0.  0.]\n",
      " [ 0.  0.]\n",
      " [ 0.  0.]\n",
      " [ 0.  0.]\n",
      " [ 5. 25.]\n",
      " [ 0.  0.]]\n"
     ]
    }
   ],
   "source": [
    "# your solutions here\n",
    "vec = np.array([4, 0, 6, 5, 11, 14, 12, 14, 5, 16])\n",
    "array = np.zeros((10,2))\n",
    "\n",
    "for i in range(len(array)):\n",
    "    if vec[i]**2 < 100:\n",
    "        array[i] = [vec[i], vec[i]**2]\n",
    "\n",
    "print(array)"
   ]
  },
  {
   "cell_type": "markdown",
   "metadata": {},
   "source": [
    "# Exercise 2\n",
    "    \n",
    "   A. Write a function that takes an array of numbers and spits out the Gaussian distribution. Yes, there is a function for this in Python, but it's good to do this from scratch! This is the equation:\n",
    "    \n",
    "$$ f(x) = \\frac{1}{\\sigma \\sqrt{2\\pi}} \\exp{\\frac{-(x - \\mu)^2}{2\\sigma^2}} $$\n",
    "\n",
    "    (Pi is built into numpy, so call it as np.pi.)\n",
    "\n",
    "   B. Call the function a few different times for different values of mu and sigma, between -10 < x < 10.\n",
    "    \n",
    "   C. Plot each version, making sure they are differentiated with different colors and/or linestyles and include a legend. Btw, here's a list of the customizations available in matplotlib:\n",
    "    \n",
    "    https://matplotlib.org/3.1.0/api/_as_gen/matplotlib.pyplot.plot.html\n",
    "    \n",
    "    https://matplotlib.org/gallery/color/named_colors.html\n",
    "    \n",
    "   D. Save your figure.\n",
    "    \n",
    "If you have multiple lines with plt.plot(), Python will plot all of them together, unless you write plt.show() after each one. I want these all on one plot."
   ]
  },
  {
   "cell_type": "code",
   "execution_count": 40,
   "metadata": {},
   "outputs": [
    {
     "name": "stderr",
     "output_type": "stream",
     "text": [
      "The PostScript backend does not support transparency; partially transparent artists will be rendered opaque.\n",
      "The PostScript backend does not support transparency; partially transparent artists will be rendered opaque.\n"
     ]
    },
    {
     "data": {
      "image/png": "[encoded data removed]",
      "text/plain": [
       "<Figure size 432x288 with 1 Axes>"
      ]
     },
     "metadata": {
      "needs_background": "light"
     },
     "output_type": "display_data"
    }
   ],
   "source": [
    "# your solutions here\n",
    "def gauss(sigma, mu, x):\n",
    "    fx = (sigma * np.sqrt(2*np.pi))**-1 * np.exp( -(x - mu)**2 / (2*sigma**2) )\n",
    "    return fx\n",
    "\n",
    "xarr = np.linspace(-10,10,1001)\n",
    "f1 = gauss(1, 0, xarr)\n",
    "f2 = gauss(0.5, 0, xarr)\n",
    "f3 = gauss(1, 4, xarr)\n",
    "f4 = gauss(3, -1, xarr)\n",
    "\n",
    "fig = plt.figure()\n",
    "plt.plot(xarr, f1, '-k', linewidth=3, label='mu=0 sigma=1')\n",
    "plt.plot(xarr, f2, '-g', label='mu=0 sigma=0.5')\n",
    "plt.plot(xarr, f3, '--r', label='mu=4 sigma=1')\n",
    "plt.plot(xarr, f4, ':b', label='mu=-1 sigma=3')\n",
    "plt.xlabel('x', fontsize=16)\n",
    "plt.ylabel('f(x)', fontsize=16)\n",
    "plt.title('Gaussian distributions')\n",
    "plt.legend(loc=1, frameon=True) #'loc' moves the legend around, frameon puts a box around the legend\n",
    "fig.savefig('gaussfig.eps')\n",
    "fig.savefig('gaussfig.pdf')\n",
    "plt.show()\n"
   ]
  },
  {
   "cell_type": "markdown",
   "metadata": {},
   "source": [
    "### Day 3\n",
    "\n",
    "#### Exercise 1\n",
    "\n",
    "There is a file in this directory called \"histogram_exercise.dat\" which consists of of randomly generated samples from a Gaussian distribution with an unknown $\\mu$ and $\\sigma$. Using what you've learned about fitting data, load up this file using np.genfromtxt, fit a Gaussian curve to the data and plot both the curve and the histogram of the data. As always, label everything, play with the colors, and choose a judicious bin size. \n",
    "\n",
    "Hint: if you attempt to call a function from a library or package that hasn't been imported, you will get an error."
   ]
  },
  {
   "cell_type": "code",
   "execution_count": null,
   "metadata": {},
   "outputs": [],
   "source": [
    "# your solution here"
   ]
  },
  {
   "cell_type": "markdown",
   "metadata": {},
   "source": [
    "#### Exercise 2\n",
    "\n",
    "Create a 1D interpolation along these arrays. Plot both the data (as points) and the interpolation (as a dotted line). Also plot the value of the interpolated function at x=325. What does the function look like to you?"
   ]
  },
  {
   "cell_type": "code",
   "execution_count": null,
   "metadata": {},
   "outputs": [],
   "source": [
    "x = np.array([0., 50., 100., 150., 200., 250., 300., 350., 400., 450., 500])\n",
    "y = np.array([0., 7.071, 10., 12.247, 14.142, 15.811, 17.321, 18.708, 20., 21.213, 22.361])\n",
    "\n",
    "# solution here"
   ]
  },
  {
   "cell_type": "markdown",
   "metadata": {},
   "source": [
    "### Day 4\n",
    "\n",
    "#### Exercise 1\n",
    "\n",
    "Let's practice some more plotting skills, now incorporating units. \n",
    "\n",
    "A. Write a function that takes an array of frequencies and spits out the Planck distribution. That's this equation:\n",
    "\n",
    "$$ B(\\nu, T) = \\frac{2h\\nu^3/c^2}{e^{\\frac{h\\nu}{k_B T}} - 1} $$\n",
    "\n",
    "This requires you to use the Planck constant, the Boltzmann constant, and the speed of light from astropy. Make sure they are all in cgs. \n",
    "    \n",
    "B. Plot your function in log-log space for T = 25, 50, and 300 K. The most sensible frequency range is about 10^5 to 10^15 Hz. Hint: if your units are correct, your peak values of B(T) should be on the order of 10^-10. Make sure everything is labelled. "
   ]
  },
  {
   "cell_type": "code",
   "execution_count": null,
   "metadata": {},
   "outputs": [],
   "source": [
    "# solution here"
   ]
  },
  {
   "cell_type": "markdown",
   "metadata": {},
   "source": [
    "#### Exercise 2\n",
    "\n",
    "Let's put everything together now! Here's a link to the full documentation for FITSFigure, which will tell you all of the customizable options: http://aplpy.readthedocs.io/en/stable/api/aplpy.FITSFigure.html. Let's create a nice plot of M51 with a background optical image and X-ray contours overplotted.\n",
    "\n",
    "The data came from here if you're interested: http://chandra.harvard.edu/photo/openFITS/multiwavelength_data.html\n",
    "\n",
    "A. Using astropy, open the X-RAY data (m51_xray.fits). Flatten the data array and find its standard deviation, and call it sigma.\n",
    "\n",
    "B. Using aplpy, plot a colorscale image of the OPTICAL data. Choose a colormap that is visually appealing (list of them here: https://matplotlib.org/2.0.2/examples/color/colormaps_reference.html). Show the colorbar. \n",
    "\n",
    "C. Plot the X-ray data as contours above the optical image. Make the contours spring green with 80% opacity and dotted lines. Make the levels go from 2$\\sigma$ to 10$\\sigma$ in steps of 2$\\sigma$. (It might be easier to define the levels array before show_contours, and set levels=levels.)"
   ]
  },
  {
   "cell_type": "code",
   "execution_count": null,
   "metadata": {},
   "outputs": [],
   "source": [
    "# solution here"
   ]
  }
 ],
 "metadata": {
  "kernelspec": {
   "display_name": "Python 3",
   "language": "python",
   "name": "python3"
  },
  "language_info": {
   "codemirror_mode": {
    "name": "ipython",
    "version": 3
   },
   "file_extension": ".py",
   "mimetype": "text/x-python",
   "name": "python",
   "nbconvert_exporter": "python",
   "pygments_lexer": "ipython3",
   "version": "3.7.3"
  },
  "widgets": {
   "application/vnd.jupyter.widget-state+json": {
    "state": {},
    "version_major": 2,
    "version_minor": 0
   }
  }
 },
 "nbformat": 4,
 "nbformat_minor": 2
}
